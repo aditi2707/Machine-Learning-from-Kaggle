{
 "cells": [
  {
   "cell_type": "code",
   "execution_count": 1,
   "id": "variable-portugal",
   "metadata": {
    "_cell_guid": "b1076dfc-b9ad-4769-8c92-a6c4dae69d19",
    "_uuid": "8f2839f25d086af736a60e9eeb907d3b93b6e0e5",
    "execution": {
     "iopub.execute_input": "2021-06-28T19:30:16.262209Z",
     "iopub.status.busy": "2021-06-28T19:30:16.261550Z",
     "iopub.status.idle": "2021-06-28T19:30:16.283989Z",
     "shell.execute_reply": "2021-06-28T19:30:16.283241Z",
     "shell.execute_reply.started": "2021-06-28T18:51:32.836155Z"
    },
    "papermill": {
     "duration": 0.047574,
     "end_time": "2021-06-28T19:30:16.284196",
     "exception": false,
     "start_time": "2021-06-28T19:30:16.236622",
     "status": "completed"
    },
    "tags": []
   },
   "outputs": [
    {
     "name": "stdout",
     "output_type": "stream",
     "text": [
      "/kaggle/input/yeh-concret-data/Concrete_Data_Yeh.csv\n"
     ]
    }
   ],
   "source": [
    "# This Python 3 environment comes with many helpful analytics libraries installed\n",
    "# It is defined by the kaggle/python Docker image: https://github.com/kaggle/docker-python\n",
    "# For example, here's several helpful packages to load\n",
    "\n",
    "import numpy as np # linear algebra\n",
    "import pandas as pd # data processing, CSV file I/O (e.g. pd.read_csv)\n",
    "\n",
    "# Input data files are available in the read-only \"../input/\" directory\n",
    "# For example, running this (by clicking run or pressing Shift+Enter) will list all files under the input directory\n",
    "\n",
    "import os\n",
    "for dirname, _, filenames in os.walk('/kaggle/input'):\n",
    "    for filename in filenames:\n",
    "        print(os.path.join(dirname, filename))\n",
    "\n",
    "# You can write up to 20GB to the current directory (/kaggle/working/) that gets preserved as output when you create a version using \"Save & Run All\" \n",
    "# You can also write temporary files to /kaggle/temp/, but they won't be saved outside of the current session"
   ]
  },
  {
   "cell_type": "markdown",
   "id": "leading-rough",
   "metadata": {
    "papermill": {
     "duration": 0.011381,
     "end_time": "2021-06-28T19:30:16.308030",
     "exception": false,
     "start_time": "2021-06-28T19:30:16.296649",
     "status": "completed"
    },
    "tags": []
   },
   "source": [
    "<font style = 'font-size: 15px;'>In this, we have to predict the strength of concrete.</font><br>\n",
    "<font style = 'font-size: 15px;'>Hypothesis 0: The variables have no effect on the concrete strength.</font><br>"
   ]
  },
  {
   "cell_type": "code",
   "execution_count": 2,
   "id": "gentle-closing",
   "metadata": {
    "execution": {
     "iopub.execute_input": "2021-06-28T19:30:16.336769Z",
     "iopub.status.busy": "2021-06-28T19:30:16.335977Z",
     "iopub.status.idle": "2021-06-28T19:30:18.009316Z",
     "shell.execute_reply": "2021-06-28T19:30:18.009815Z",
     "shell.execute_reply.started": "2021-06-28T18:52:39.566887Z"
    },
    "papermill": {
     "duration": 1.690347,
     "end_time": "2021-06-28T19:30:18.010003",
     "exception": false,
     "start_time": "2021-06-28T19:30:16.319656",
     "status": "completed"
    },
    "tags": []
   },
   "outputs": [],
   "source": [
    "import numpy as np\n",
    "import matplotlib.pyplot as plt\n",
    "import pandas as pd\n",
    "import statsmodels.api as sm"
   ]
  },
  {
   "cell_type": "code",
   "execution_count": 3,
   "id": "colonial-graduate",
   "metadata": {
    "execution": {
     "iopub.execute_input": "2021-06-28T19:30:18.037235Z",
     "iopub.status.busy": "2021-06-28T19:30:18.036515Z",
     "iopub.status.idle": "2021-06-28T19:30:18.060304Z",
     "shell.execute_reply": "2021-06-28T19:30:18.060780Z",
     "shell.execute_reply.started": "2021-06-28T18:51:34.200374Z"
    },
    "papermill": {
     "duration": 0.038925,
     "end_time": "2021-06-28T19:30:18.060978",
     "exception": false,
     "start_time": "2021-06-28T19:30:18.022053",
     "status": "completed"
    },
    "tags": []
   },
   "outputs": [],
   "source": [
    "dataset = pd.read_csv('../input/yeh-concret-data/Concrete_Data_Yeh.csv')\n",
    "X = dataset.iloc[:, :-1].values\n",
    "y = dataset.iloc[:, -1].values"
   ]
  },
  {
   "cell_type": "code",
   "execution_count": 4,
   "id": "unauthorized-restriction",
   "metadata": {
    "execution": {
     "iopub.execute_input": "2021-06-28T19:30:18.088006Z",
     "iopub.status.busy": "2021-06-28T19:30:18.087338Z",
     "iopub.status.idle": "2021-06-28T19:30:18.228991Z",
     "shell.execute_reply": "2021-06-28T19:30:18.229523Z",
     "shell.execute_reply.started": "2021-06-28T18:51:34.228938Z"
    },
    "papermill": {
     "duration": 0.156888,
     "end_time": "2021-06-28T19:30:18.229715",
     "exception": false,
     "start_time": "2021-06-28T19:30:18.072827",
     "status": "completed"
    },
    "tags": []
   },
   "outputs": [],
   "source": [
    "from sklearn.model_selection import train_test_split\n",
    "X_train, X_test, y_train, y_test = train_test_split(X, y, test_size = 0.2, random_state = 0)"
   ]
  },
  {
   "cell_type": "code",
   "execution_count": 5,
   "id": "liberal-corps",
   "metadata": {
    "execution": {
     "iopub.execute_input": "2021-06-28T19:30:18.257095Z",
     "iopub.status.busy": "2021-06-28T19:30:18.256429Z",
     "iopub.status.idle": "2021-06-28T19:30:18.386420Z",
     "shell.execute_reply": "2021-06-28T19:30:18.385854Z",
     "shell.execute_reply.started": "2021-06-28T18:51:34.497821Z"
    },
    "papermill": {
     "duration": 0.1448,
     "end_time": "2021-06-28T19:30:18.386573",
     "exception": false,
     "start_time": "2021-06-28T19:30:18.241773",
     "status": "completed"
    },
    "tags": []
   },
   "outputs": [
    {
     "data": {
      "text/plain": [
       "LinearRegression()"
      ]
     },
     "execution_count": 5,
     "metadata": {},
     "output_type": "execute_result"
    }
   ],
   "source": [
    "from sklearn.linear_model import LinearRegression\n",
    "regressor = LinearRegression()\n",
    "regressor.fit(X_train, y_train)"
   ]
  },
  {
   "cell_type": "code",
   "execution_count": 6,
   "id": "protecting-repeat",
   "metadata": {
    "execution": {
     "iopub.execute_input": "2021-06-28T19:30:18.416977Z",
     "iopub.status.busy": "2021-06-28T19:30:18.416292Z",
     "iopub.status.idle": "2021-06-28T19:30:18.420181Z",
     "shell.execute_reply": "2021-06-28T19:30:18.420732Z",
     "shell.execute_reply.started": "2021-06-28T18:51:34.658837Z"
    },
    "papermill": {
     "duration": 0.02211,
     "end_time": "2021-06-28T19:30:18.420962",
     "exception": false,
     "start_time": "2021-06-28T19:30:18.398852",
     "status": "completed"
    },
    "tags": []
   },
   "outputs": [
    {
     "name": "stdout",
     "output_type": "stream",
     "text": [
      "-30.566755756266936\n",
      "[ 0.11923772  0.10881555  0.0911555  -0.14527714  0.31551104  0.02225423\n",
      "  0.02248514  0.11520355]\n"
     ]
    }
   ],
   "source": [
    "print(regressor.intercept_)\n",
    "print(regressor.coef_)"
   ]
  },
  {
   "cell_type": "code",
   "execution_count": 7,
   "id": "intimate-implement",
   "metadata": {
    "execution": {
     "iopub.execute_input": "2021-06-28T19:30:18.453438Z",
     "iopub.status.busy": "2021-06-28T19:30:18.452715Z",
     "iopub.status.idle": "2021-06-28T19:30:18.456040Z",
     "shell.execute_reply": "2021-06-28T19:30:18.455498Z",
     "shell.execute_reply.started": "2021-06-28T18:51:34.667692Z"
    },
    "papermill": {
     "duration": 0.021281,
     "end_time": "2021-06-28T19:30:18.456215",
     "exception": false,
     "start_time": "2021-06-28T19:30:18.434934",
     "status": "completed"
    },
    "tags": []
   },
   "outputs": [],
   "source": [
    "y_pred = regressor.predict(X_test)"
   ]
  },
  {
   "cell_type": "code",
   "execution_count": 8,
   "id": "sufficient-incentive",
   "metadata": {
    "execution": {
     "iopub.execute_input": "2021-06-28T19:30:18.488422Z",
     "iopub.status.busy": "2021-06-28T19:30:18.487508Z",
     "iopub.status.idle": "2021-06-28T19:30:18.491709Z",
     "shell.execute_reply": "2021-06-28T19:30:18.491053Z",
     "shell.execute_reply.started": "2021-06-28T18:51:34.683978Z"
    },
    "papermill": {
     "duration": 0.022814,
     "end_time": "2021-06-28T19:30:18.491849",
     "exception": false,
     "start_time": "2021-06-28T19:30:18.469035",
     "status": "completed"
    },
    "tags": []
   },
   "outputs": [
    {
     "data": {
      "text/plain": [
       "0.6369606518338295"
      ]
     },
     "execution_count": 8,
     "metadata": {},
     "output_type": "execute_result"
    }
   ],
   "source": [
    "from sklearn.metrics import r2_score\n",
    "r2_score(y_test, y_pred)"
   ]
  },
  {
   "cell_type": "code",
   "execution_count": 9,
   "id": "complimentary-range",
   "metadata": {
    "execution": {
     "iopub.execute_input": "2021-06-28T19:30:18.636857Z",
     "iopub.status.busy": "2021-06-28T19:30:18.636214Z",
     "iopub.status.idle": "2021-06-28T19:30:18.712406Z",
     "shell.execute_reply": "2021-06-28T19:30:18.713400Z",
     "shell.execute_reply.started": "2021-06-28T18:52:44.108853Z"
    },
    "papermill": {
     "duration": 0.209026,
     "end_time": "2021-06-28T19:30:18.713661",
     "exception": false,
     "start_time": "2021-06-28T19:30:18.504635",
     "status": "completed"
    },
    "tags": []
   },
   "outputs": [
    {
     "data": {
      "text/html": [
       "<table class=\"simpletable\">\n",
       "<caption>OLS Regression Results</caption>\n",
       "<tr>\n",
       "  <th>Dep. Variable:</th>          <td>csMPa</td>      <th>  R-squared:         </th> <td>   0.616</td> \n",
       "</tr>\n",
       "<tr>\n",
       "  <th>Model:</th>                   <td>OLS</td>       <th>  Adj. R-squared:    </th> <td>   0.613</td> \n",
       "</tr>\n",
       "<tr>\n",
       "  <th>Method:</th>             <td>Least Squares</td>  <th>  F-statistic:       </th> <td>   204.3</td> \n",
       "</tr>\n",
       "<tr>\n",
       "  <th>Date:</th>             <td>Mon, 28 Jun 2021</td> <th>  Prob (F-statistic):</th> <td>6.29e-206</td>\n",
       "</tr>\n",
       "<tr>\n",
       "  <th>Time:</th>                 <td>19:30:18</td>     <th>  Log-Likelihood:    </th> <td> -3869.0</td> \n",
       "</tr>\n",
       "<tr>\n",
       "  <th>No. Observations:</th>      <td>  1030</td>      <th>  AIC:               </th> <td>   7756.</td> \n",
       "</tr>\n",
       "<tr>\n",
       "  <th>Df Residuals:</th>          <td>  1021</td>      <th>  BIC:               </th> <td>   7800.</td> \n",
       "</tr>\n",
       "<tr>\n",
       "  <th>Df Model:</th>              <td>     8</td>      <th>                     </th>     <td> </td>    \n",
       "</tr>\n",
       "<tr>\n",
       "  <th>Covariance Type:</th>      <td>nonrobust</td>    <th>                     </th>     <td> </td>    \n",
       "</tr>\n",
       "</table>\n",
       "<table class=\"simpletable\">\n",
       "<tr>\n",
       "          <td></td>            <th>coef</th>     <th>std err</th>      <th>t</th>      <th>P>|t|</th>  <th>[0.025</th>    <th>0.975]</th>  \n",
       "</tr>\n",
       "<tr>\n",
       "  <th>Intercept</th>        <td>  -23.3312</td> <td>   26.586</td> <td>   -0.878</td> <td> 0.380</td> <td>  -75.500</td> <td>   28.837</td>\n",
       "</tr>\n",
       "<tr>\n",
       "  <th>cement</th>           <td>    0.1198</td> <td>    0.008</td> <td>   14.113</td> <td> 0.000</td> <td>    0.103</td> <td>    0.136</td>\n",
       "</tr>\n",
       "<tr>\n",
       "  <th>slag</th>             <td>    0.1039</td> <td>    0.010</td> <td>   10.247</td> <td> 0.000</td> <td>    0.084</td> <td>    0.124</td>\n",
       "</tr>\n",
       "<tr>\n",
       "  <th>flyash</th>           <td>    0.0879</td> <td>    0.013</td> <td>    6.988</td> <td> 0.000</td> <td>    0.063</td> <td>    0.113</td>\n",
       "</tr>\n",
       "<tr>\n",
       "  <th>water</th>            <td>   -0.1499</td> <td>    0.040</td> <td>   -3.731</td> <td> 0.000</td> <td>   -0.229</td> <td>   -0.071</td>\n",
       "</tr>\n",
       "<tr>\n",
       "  <th>superplasticizer</th> <td>    0.2922</td> <td>    0.093</td> <td>    3.128</td> <td> 0.002</td> <td>    0.109</td> <td>    0.476</td>\n",
       "</tr>\n",
       "<tr>\n",
       "  <th>coarseaggregate</th>  <td>    0.0181</td> <td>    0.009</td> <td>    1.926</td> <td> 0.054</td> <td>   -0.000</td> <td>    0.037</td>\n",
       "</tr>\n",
       "<tr>\n",
       "  <th>fineaggregate</th>    <td>    0.0202</td> <td>    0.011</td> <td>    1.887</td> <td> 0.059</td> <td>   -0.001</td> <td>    0.041</td>\n",
       "</tr>\n",
       "<tr>\n",
       "  <th>age</th>              <td>    0.1142</td> <td>    0.005</td> <td>   21.046</td> <td> 0.000</td> <td>    0.104</td> <td>    0.125</td>\n",
       "</tr>\n",
       "</table>\n",
       "<table class=\"simpletable\">\n",
       "<tr>\n",
       "  <th>Omnibus:</th>       <td> 5.378</td> <th>  Durbin-Watson:     </th> <td>   1.282</td>\n",
       "</tr>\n",
       "<tr>\n",
       "  <th>Prob(Omnibus):</th> <td> 0.068</td> <th>  Jarque-Bera (JB):  </th> <td>   5.304</td>\n",
       "</tr>\n",
       "<tr>\n",
       "  <th>Skew:</th>          <td>-0.174</td> <th>  Prob(JB):          </th> <td>  0.0705</td>\n",
       "</tr>\n",
       "<tr>\n",
       "  <th>Kurtosis:</th>      <td> 3.045</td> <th>  Cond. No.          </th> <td>1.06e+05</td>\n",
       "</tr>\n",
       "</table><br/><br/>Notes:<br/>[1] Standard Errors assume that the covariance matrix of the errors is correctly specified.<br/>[2] The condition number is large, 1.06e+05. This might indicate that there are<br/>strong multicollinearity or other numerical problems."
      ],
      "text/plain": [
       "<class 'statsmodels.iolib.summary.Summary'>\n",
       "\"\"\"\n",
       "                            OLS Regression Results                            \n",
       "==============================================================================\n",
       "Dep. Variable:                  csMPa   R-squared:                       0.616\n",
       "Model:                            OLS   Adj. R-squared:                  0.613\n",
       "Method:                 Least Squares   F-statistic:                     204.3\n",
       "Date:                Mon, 28 Jun 2021   Prob (F-statistic):          6.29e-206\n",
       "Time:                        19:30:18   Log-Likelihood:                -3869.0\n",
       "No. Observations:                1030   AIC:                             7756.\n",
       "Df Residuals:                    1021   BIC:                             7800.\n",
       "Df Model:                           8                                         \n",
       "Covariance Type:            nonrobust                                         \n",
       "====================================================================================\n",
       "                       coef    std err          t      P>|t|      [0.025      0.975]\n",
       "------------------------------------------------------------------------------------\n",
       "Intercept          -23.3312     26.586     -0.878      0.380     -75.500      28.837\n",
       "cement               0.1198      0.008     14.113      0.000       0.103       0.136\n",
       "slag                 0.1039      0.010     10.247      0.000       0.084       0.124\n",
       "flyash               0.0879      0.013      6.988      0.000       0.063       0.113\n",
       "water               -0.1499      0.040     -3.731      0.000      -0.229      -0.071\n",
       "superplasticizer     0.2922      0.093      3.128      0.002       0.109       0.476\n",
       "coarseaggregate      0.0181      0.009      1.926      0.054      -0.000       0.037\n",
       "fineaggregate        0.0202      0.011      1.887      0.059      -0.001       0.041\n",
       "age                  0.1142      0.005     21.046      0.000       0.104       0.125\n",
       "==============================================================================\n",
       "Omnibus:                        5.378   Durbin-Watson:                   1.282\n",
       "Prob(Omnibus):                  0.068   Jarque-Bera (JB):                5.304\n",
       "Skew:                          -0.174   Prob(JB):                       0.0705\n",
       "Kurtosis:                       3.045   Cond. No.                     1.06e+05\n",
       "==============================================================================\n",
       "\n",
       "Notes:\n",
       "[1] Standard Errors assume that the covariance matrix of the errors is correctly specified.\n",
       "[2] The condition number is large, 1.06e+05. This might indicate that there are\n",
       "strong multicollinearity or other numerical problems.\n",
       "\"\"\""
      ]
     },
     "execution_count": 9,
     "metadata": {},
     "output_type": "execute_result"
    }
   ],
   "source": [
    "model_lin = sm.OLS.from_formula(\"csMPa ~ cement + slag + flyash + water + superplasticizer + coarseaggregate + fineaggregate + age\", data=dataset)\n",
    "result_lin = model_lin.fit()\n",
    "result_lin.summary()"
   ]
  },
  {
   "cell_type": "code",
   "execution_count": 10,
   "id": "promotional-loading",
   "metadata": {
    "execution": {
     "iopub.execute_input": "2021-06-28T19:30:18.772780Z",
     "iopub.status.busy": "2021-06-28T19:30:18.771728Z",
     "iopub.status.idle": "2021-06-28T19:30:18.778821Z",
     "shell.execute_reply": "2021-06-28T19:30:18.779792Z",
     "shell.execute_reply.started": "2021-06-28T19:25:18.000956Z"
    },
    "papermill": {
     "duration": 0.043035,
     "end_time": "2021-06-28T19:30:18.780057",
     "exception": false,
     "start_time": "2021-06-28T19:30:18.737022",
     "status": "completed"
    },
    "tags": []
   },
   "outputs": [
    {
     "name": "stdout",
     "output_type": "stream",
     "text": [
      "Intercept           3.803719e-01\n",
      "cement              1.897989e-41\n",
      "slag                1.598993e-23\n",
      "flyash              5.019648e-12\n",
      "water               2.008798e-04\n",
      "superplasticizer    1.810241e-03\n",
      "coarseaggregate     5.442481e-02\n",
      "fineaggregate       5.949075e-02\n",
      "age                 5.782491e-82\n",
      "dtype: float64\n"
     ]
    }
   ],
   "source": [
    "print(result_lin.pvalues)"
   ]
  },
  {
   "cell_type": "markdown",
   "id": "raised-capture",
   "metadata": {
    "papermill": {
     "duration": 0.013317,
     "end_time": "2021-06-28T19:30:18.815911",
     "exception": false,
     "start_time": "2021-06-28T19:30:18.802594",
     "status": "completed"
    },
    "tags": []
   },
   "source": [
    "<font style = 'font-size: 15px;'>-> From the above data, in reference to the p-values(P > |t|), coarseaggregate(0.054) and fineaggregate(0.059) have values greater than 0.05 which means they are statistically insignificant as they are closer to proving the null hypothesis true.</font><br>\n",
    "<font style = 'font-size: 15px;'>-> So, they are not considered in predicting the values for this model.</font>"
   ]
  },
  {
   "cell_type": "code",
   "execution_count": 11,
   "id": "colored-collar",
   "metadata": {
    "execution": {
     "iopub.execute_input": "2021-06-28T19:30:18.851806Z",
     "iopub.status.busy": "2021-06-28T19:30:18.851152Z",
     "iopub.status.idle": "2021-06-28T19:30:18.864156Z",
     "shell.execute_reply": "2021-06-28T19:30:18.864684Z",
     "shell.execute_reply.started": "2021-06-28T18:56:26.829080Z"
    },
    "papermill": {
     "duration": 0.035363,
     "end_time": "2021-06-28T19:30:18.864901",
     "exception": false,
     "start_time": "2021-06-28T19:30:18.829538",
     "status": "completed"
    },
    "tags": []
   },
   "outputs": [
    {
     "name": "stdout",
     "output_type": "stream",
     "text": [
      "                     csMPa    cement      slag    flyash     water  \\\n",
      "csMPa             1.000000  0.497832  0.134829 -0.105755 -0.289633   \n",
      "cement            0.497832  1.000000 -0.275216 -0.397467 -0.081587   \n",
      "slag              0.134829 -0.275216  1.000000 -0.323580  0.107252   \n",
      "flyash           -0.105755 -0.397467 -0.323580  1.000000 -0.256984   \n",
      "water            -0.289633 -0.081587  0.107252 -0.256984  1.000000   \n",
      "superplasticizer  0.366079  0.092386  0.043270  0.377503 -0.657533   \n",
      "coarseaggregate  -0.164935 -0.109349 -0.283999 -0.009961 -0.182294   \n",
      "fineaggregate    -0.167241 -0.222718 -0.281603  0.079108 -0.450661   \n",
      "age               0.328873  0.081946 -0.044246 -0.154371  0.277618   \n",
      "\n",
      "                  superplasticizer  coarseaggregate  fineaggregate       age  \n",
      "csMPa                     0.366079        -0.164935      -0.167241  0.328873  \n",
      "cement                    0.092386        -0.109349      -0.222718  0.081946  \n",
      "slag                      0.043270        -0.283999      -0.281603 -0.044246  \n",
      "flyash                    0.377503        -0.009961       0.079108 -0.154371  \n",
      "water                    -0.657533        -0.182294      -0.450661  0.277618  \n",
      "superplasticizer          1.000000        -0.265999       0.222691 -0.192700  \n",
      "coarseaggregate          -0.265999         1.000000      -0.178481 -0.003016  \n",
      "fineaggregate             0.222691        -0.178481       1.000000 -0.156095  \n",
      "age                      -0.192700        -0.003016      -0.156095  1.000000  \n"
     ]
    }
   ],
   "source": [
    "cc = dataset[[\"csMPa\", \"cement\", \"slag\", \"flyash\", \"water\", \"superplasticizer\", \"coarseaggregate\", \"fineaggregate\", \"age\"]].corr()\n",
    "print(cc)"
   ]
  },
  {
   "cell_type": "markdown",
   "id": "common-strike",
   "metadata": {
    "papermill": {
     "duration": 0.014124,
     "end_time": "2021-06-28T19:30:18.893688",
     "exception": false,
     "start_time": "2021-06-28T19:30:18.879564",
     "status": "completed"
    },
    "tags": []
   },
   "source": [
    "<font style = 'font-size: 15px;'>-> Flyash and water have a negative relationship with the dependent variable which means that the csMPa will decrease with each 10.58% and 29% increase resp. in the independent variables.</font><br>\n",
    "<font style = 'font-size: 15px;'>-> This implies that water seems to decrease the strength of the concrete as more addition of water makes the concrete dilute.</font><br>\n",
    "<font style = 'font-size: 15px;'>-> Flyash can decrease the concrete strength because of:\n",
    "a. Slower strength gain\n",
    "b. Seasonal limitation\n",
    "c. Increased need for air-entraining admixtures\n",
    "d. Increase of salt scaling produced by higher proportions of fly ash\n",
    "</font><br>\n",
    "<font style = 'font-size: 15px;'>-> The one impacting the concrete strength the most is cement, which is 49% and because of this cement is considered one of the major ingredients in concrete.</font>"
   ]
  }
 ],
 "metadata": {
  "kernelspec": {
   "display_name": "Python 3",
   "language": "python",
   "name": "python3"
  },
  "language_info": {
   "codemirror_mode": {
    "name": "ipython",
    "version": 3
   },
   "file_extension": ".py",
   "mimetype": "text/x-python",
   "name": "python",
   "nbconvert_exporter": "python",
   "pygments_lexer": "ipython3",
   "version": "3.7.10"
  },
  "papermill": {
   "default_parameters": {},
   "duration": 11.626408,
   "end_time": "2021-06-28T19:30:19.719056",
   "environment_variables": {},
   "exception": null,
   "input_path": "__notebook__.ipynb",
   "output_path": "__notebook__.ipynb",
   "parameters": {},
   "start_time": "2021-06-28T19:30:08.092648",
   "version": "2.3.3"
  }
 },
 "nbformat": 4,
 "nbformat_minor": 5
}
