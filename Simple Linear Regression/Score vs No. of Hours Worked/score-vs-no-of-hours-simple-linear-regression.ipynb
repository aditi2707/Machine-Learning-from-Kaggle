{
 "cells": [
  {
   "cell_type": "code",
   "execution_count": 1,
   "id": "responsible-bronze",
   "metadata": {
    "_cell_guid": "b1076dfc-b9ad-4769-8c92-a6c4dae69d19",
    "_uuid": "8f2839f25d086af736a60e9eeb907d3b93b6e0e5",
    "execution": {
     "iopub.execute_input": "2021-06-07T20:56:27.728238Z",
     "iopub.status.busy": "2021-06-07T20:56:27.726849Z",
     "iopub.status.idle": "2021-06-07T20:56:27.747165Z",
     "shell.execute_reply": "2021-06-07T20:56:27.747626Z",
     "shell.execute_reply.started": "2021-06-07T20:49:34.093276Z"
    },
    "papermill": {
     "duration": 0.038333,
     "end_time": "2021-06-07T20:56:27.747944",
     "exception": false,
     "start_time": "2021-06-07T20:56:27.709611",
     "status": "completed"
    },
    "tags": []
   },
   "outputs": [
    {
     "name": "stdout",
     "output_type": "stream",
     "text": [
      "/kaggle/input/students-score-dataset-linear-regression/student_scores.csv\n"
     ]
    }
   ],
   "source": [
    "# This Python 3 environment comes with many helpful analytics libraries installed\n",
    "# It is defined by the kaggle/python Docker image: https://github.com/kaggle/docker-python\n",
    "# For example, here's several helpful packages to load\n",
    "\n",
    "import numpy as np # linear algebra\n",
    "import pandas as pd # data processing, CSV file I/O (e.g. pd.read_csv)\n",
    "\n",
    "# Input data files are available in the read-only \"../input/\" directory\n",
    "# For example, running this (by clicking run or pressing Shift+Enter) will list all files under the input directory\n",
    "\n",
    "import os\n",
    "for dirname, _, filenames in os.walk('/kaggle/input'):\n",
    "    for filename in filenames:\n",
    "        print(os.path.join(dirname, filename))\n",
    "\n",
    "# You can write up to 20GB to the current directory (/kaggle/working/) that gets preserved as output when you create a version using \"Save & Run All\" \n",
    "# You can also write temporary files to /kaggle/temp/, but they won't be saved outside of the current session"
   ]
  },
  {
   "cell_type": "markdown",
   "id": "important-given",
   "metadata": {
    "papermill": {
     "duration": 0.012875,
     "end_time": "2021-06-07T20:56:27.774514",
     "exception": false,
     "start_time": "2021-06-07T20:56:27.761639",
     "status": "completed"
    },
    "tags": []
   },
   "source": [
    "> I am considering a hypothesis where the number of hours will depend on the score.\n",
    "> So, the independent variable is score and dependent variable is number of hours.\n",
    "I'll apply the basic simple linear regression to this problem. Although there are many models to work with, I'll start with this as I'm in the learning stage."
   ]
  },
  {
   "cell_type": "code",
   "execution_count": 2,
   "id": "referenced-enemy",
   "metadata": {
    "execution": {
     "iopub.execute_input": "2021-06-07T20:56:27.806197Z",
     "iopub.status.busy": "2021-06-07T20:56:27.805197Z",
     "iopub.status.idle": "2021-06-07T20:56:27.808248Z",
     "shell.execute_reply": "2021-06-07T20:56:27.807727Z",
     "shell.execute_reply.started": "2021-06-07T20:49:34.118276Z"
    },
    "papermill": {
     "duration": 0.020665,
     "end_time": "2021-06-07T20:56:27.808391",
     "exception": false,
     "start_time": "2021-06-07T20:56:27.787726",
     "status": "completed"
    },
    "tags": []
   },
   "outputs": [],
   "source": [
    "import numpy as np\n",
    "import matplotlib.pyplot as mlt\n",
    "import pandas as pd"
   ]
  },
  {
   "cell_type": "code",
   "execution_count": 3,
   "id": "civil-missile",
   "metadata": {
    "execution": {
     "iopub.execute_input": "2021-06-07T20:56:27.840534Z",
     "iopub.status.busy": "2021-06-07T20:56:27.839894Z",
     "iopub.status.idle": "2021-06-07T20:56:27.855816Z",
     "shell.execute_reply": "2021-06-07T20:56:27.855088Z",
     "shell.execute_reply.started": "2021-06-07T20:49:34.15307Z"
    },
    "papermill": {
     "duration": 0.03436,
     "end_time": "2021-06-07T20:56:27.855954",
     "exception": false,
     "start_time": "2021-06-07T20:56:27.821594",
     "status": "completed"
    },
    "tags": []
   },
   "outputs": [],
   "source": [
    "dataset = pd.read_csv('../input/students-score-dataset-linear-regression/student_scores.csv')\n",
    "X = dataset.iloc[:, :-1].values\n",
    "y = dataset.iloc[:, -1].values"
   ]
  },
  {
   "cell_type": "code",
   "execution_count": 4,
   "id": "concerned-dream",
   "metadata": {
    "execution": {
     "iopub.execute_input": "2021-06-07T20:56:27.887574Z",
     "iopub.status.busy": "2021-06-07T20:56:27.886955Z",
     "iopub.status.idle": "2021-06-07T20:56:28.831027Z",
     "shell.execute_reply": "2021-06-07T20:56:28.831763Z",
     "shell.execute_reply.started": "2021-06-07T20:49:34.176676Z"
    },
    "papermill": {
     "duration": 0.962718,
     "end_time": "2021-06-07T20:56:28.832013",
     "exception": false,
     "start_time": "2021-06-07T20:56:27.869295",
     "status": "completed"
    },
    "tags": []
   },
   "outputs": [],
   "source": [
    "from sklearn.model_selection import train_test_split\n",
    "X_train, X_test, y_train, y_test = train_test_split(X, y, test_size = 0.2, random_state = 0)"
   ]
  },
  {
   "cell_type": "code",
   "execution_count": 5,
   "id": "italian-recorder",
   "metadata": {
    "execution": {
     "iopub.execute_input": "2021-06-07T20:56:28.867433Z",
     "iopub.status.busy": "2021-06-07T20:56:28.866480Z",
     "iopub.status.idle": "2021-06-07T20:56:28.988637Z",
     "shell.execute_reply": "2021-06-07T20:56:28.988145Z",
     "shell.execute_reply.started": "2021-06-07T20:49:35.232958Z"
    },
    "papermill": {
     "duration": 0.1387,
     "end_time": "2021-06-07T20:56:28.988808",
     "exception": false,
     "start_time": "2021-06-07T20:56:28.850108",
     "status": "completed"
    },
    "tags": []
   },
   "outputs": [
    {
     "data": {
      "text/plain": [
       "LinearRegression()"
      ]
     },
     "execution_count": 5,
     "metadata": {},
     "output_type": "execute_result"
    }
   ],
   "source": [
    "from sklearn.linear_model import LinearRegression\n",
    "regressor = LinearRegression()\n",
    "regressor.fit(X_train, y_train)"
   ]
  },
  {
   "cell_type": "code",
   "execution_count": 6,
   "id": "composite-creek",
   "metadata": {
    "execution": {
     "iopub.execute_input": "2021-06-07T20:56:29.022269Z",
     "iopub.status.busy": "2021-06-07T20:56:29.021575Z",
     "iopub.status.idle": "2021-06-07T20:56:29.025051Z",
     "shell.execute_reply": "2021-06-07T20:56:29.025499Z",
     "shell.execute_reply.started": "2021-06-07T20:49:35.355089Z"
    },
    "papermill": {
     "duration": 0.022922,
     "end_time": "2021-06-07T20:56:29.025665",
     "exception": false,
     "start_time": "2021-06-07T20:56:29.002743",
     "status": "completed"
    },
    "tags": []
   },
   "outputs": [
    {
     "name": "stdout",
     "output_type": "stream",
     "text": [
      "[9.91065648]\n",
      "2.018160041434662\n"
     ]
    }
   ],
   "source": [
    "print(regressor.coef_)\n",
    "print(regressor.intercept_)"
   ]
  },
  {
   "cell_type": "markdown",
   "id": "solid-polymer",
   "metadata": {
    "papermill": {
     "duration": 0.013522,
     "end_time": "2021-06-07T20:56:29.053159",
     "exception": false,
     "start_time": "2021-06-07T20:56:29.039637",
     "status": "completed"
    },
    "tags": []
   },
   "source": [
    "> Here the slope is positive which means the score increases with the increase in the number of hours. So my hypothesis is fairly correct.\n",
    "\n",
    "> For every 1 hour rise in number of hours, the score will increase by 9.911.\n",
    "If the student hasn't studied for a single hour, then his/her predicted score is 2.012."
   ]
  },
  {
   "cell_type": "code",
   "execution_count": 7,
   "id": "utility-begin",
   "metadata": {
    "execution": {
     "iopub.execute_input": "2021-06-07T20:56:29.086367Z",
     "iopub.status.busy": "2021-06-07T20:56:29.085691Z",
     "iopub.status.idle": "2021-06-07T20:56:29.089300Z",
     "shell.execute_reply": "2021-06-07T20:56:29.089771Z",
     "shell.execute_reply.started": "2021-06-07T20:49:35.363032Z"
    },
    "papermill": {
     "duration": 0.022903,
     "end_time": "2021-06-07T20:56:29.089950",
     "exception": false,
     "start_time": "2021-06-07T20:56:29.067047",
     "status": "completed"
    },
    "tags": []
   },
   "outputs": [],
   "source": [
    "y_pred = regressor.predict(X_test)"
   ]
  },
  {
   "cell_type": "code",
   "execution_count": 8,
   "id": "green-alias",
   "metadata": {
    "execution": {
     "iopub.execute_input": "2021-06-07T20:56:29.123237Z",
     "iopub.status.busy": "2021-06-07T20:56:29.122530Z",
     "iopub.status.idle": "2021-06-07T20:56:29.126817Z",
     "shell.execute_reply": "2021-06-07T20:56:29.126177Z",
     "shell.execute_reply.started": "2021-06-07T20:51:22.318579Z"
    },
    "papermill": {
     "duration": 0.023268,
     "end_time": "2021-06-07T20:56:29.127161",
     "exception": false,
     "start_time": "2021-06-07T20:56:29.103893",
     "status": "completed"
    },
    "tags": []
   },
   "outputs": [
    {
     "name": "stdout",
     "output_type": "stream",
     "text": [
      "[96.16939661]\n"
     ]
    }
   ],
   "source": [
    "print(regressor.predict([[9.5]]))"
   ]
  },
  {
   "cell_type": "code",
   "execution_count": 9,
   "id": "agreed-reason",
   "metadata": {
    "execution": {
     "iopub.execute_input": "2021-06-07T20:56:29.167613Z",
     "iopub.status.busy": "2021-06-07T20:56:29.166699Z",
     "iopub.status.idle": "2021-06-07T20:56:29.170884Z",
     "shell.execute_reply": "2021-06-07T20:56:29.170182Z",
     "shell.execute_reply.started": "2021-06-07T20:50:46.600357Z"
    },
    "papermill": {
     "duration": 0.027002,
     "end_time": "2021-06-07T20:56:29.171066",
     "exception": false,
     "start_time": "2021-06-07T20:56:29.144064",
     "status": "completed"
    },
    "tags": []
   },
   "outputs": [
    {
     "name": "stdout",
     "output_type": "stream",
     "text": [
      "[101.12472485]\n"
     ]
    }
   ],
   "source": [
    "print(regressor.predict([[10]]))"
   ]
  },
  {
   "cell_type": "markdown",
   "id": "polar-fence",
   "metadata": {
    "papermill": {
     "duration": 0.017723,
     "end_time": "2021-06-07T20:56:29.211970",
     "exception": false,
     "start_time": "2021-06-07T20:56:29.194247",
     "status": "completed"
    },
    "tags": []
   },
   "source": [
    "# > If a person wants best score i.e. 100 then he/she has to study for 9.5 to 10 hours."
   ]
  },
  {
   "cell_type": "code",
   "execution_count": 10,
   "id": "early-venezuela",
   "metadata": {
    "execution": {
     "iopub.execute_input": "2021-06-07T20:56:29.252642Z",
     "iopub.status.busy": "2021-06-07T20:56:29.251690Z",
     "iopub.status.idle": "2021-06-07T20:56:29.256053Z",
     "shell.execute_reply": "2021-06-07T20:56:29.255458Z"
    },
    "papermill": {
     "duration": 0.025698,
     "end_time": "2021-06-07T20:56:29.256186",
     "exception": false,
     "start_time": "2021-06-07T20:56:29.230488",
     "status": "completed"
    },
    "tags": []
   },
   "outputs": [
    {
     "data": {
      "text/plain": [
       "0.9454906892105354"
      ]
     },
     "execution_count": 10,
     "metadata": {},
     "output_type": "execute_result"
    }
   ],
   "source": [
    "from sklearn.metrics import r2_score\n",
    "r2_score(y_test, y_pred)"
   ]
  },
  {
   "cell_type": "markdown",
   "id": "supreme-butler",
   "metadata": {
    "papermill": {
     "duration": 0.015156,
     "end_time": "2021-06-07T20:56:29.287167",
     "exception": false,
     "start_time": "2021-06-07T20:56:29.272011",
     "status": "completed"
    },
    "tags": []
   },
   "source": [
    "> The linear model is acceptable as the R2 value is very close to 1."
   ]
  },
  {
   "cell_type": "code",
   "execution_count": 11,
   "id": "opened-floor",
   "metadata": {
    "execution": {
     "iopub.execute_input": "2021-06-07T20:56:29.323835Z",
     "iopub.status.busy": "2021-06-07T20:56:29.323030Z",
     "iopub.status.idle": "2021-06-07T20:56:29.326702Z",
     "shell.execute_reply": "2021-06-07T20:56:29.327188Z"
    },
    "papermill": {
     "duration": 0.024479,
     "end_time": "2021-06-07T20:56:29.327372",
     "exception": false,
     "start_time": "2021-06-07T20:56:29.302893",
     "status": "completed"
    },
    "tags": []
   },
   "outputs": [
    {
     "name": "stdout",
     "output_type": "stream",
     "text": [
      "[[16.88414476 20.        ]\n",
      " [33.73226078 27.        ]\n",
      " [75.357018   69.        ]\n",
      " [26.79480124 30.        ]\n",
      " [60.49103328 62.        ]]\n"
     ]
    }
   ],
   "source": [
    "print(np.concatenate((y_pred.reshape(len(y_pred), 1), y_test.reshape(len(y_test), 1)),1))"
   ]
  },
  {
   "cell_type": "markdown",
   "id": "minor-aging",
   "metadata": {
    "papermill": {
     "duration": 0.014621,
     "end_time": "2021-06-07T20:56:29.357100",
     "exception": false,
     "start_time": "2021-06-07T20:56:29.342479",
     "status": "completed"
    },
    "tags": []
   },
   "source": [
    "> This is a comparison between the predicted values of score on the test set and actual values of score on the test set itself."
   ]
  },
  {
   "cell_type": "code",
   "execution_count": 12,
   "id": "unlimited-humor",
   "metadata": {
    "execution": {
     "iopub.execute_input": "2021-06-07T20:56:29.408564Z",
     "iopub.status.busy": "2021-06-07T20:56:29.407876Z",
     "iopub.status.idle": "2021-06-07T20:56:29.582494Z",
     "shell.execute_reply": "2021-06-07T20:56:29.581874Z"
    },
    "papermill": {
     "duration": 0.21041,
     "end_time": "2021-06-07T20:56:29.582639",
     "exception": false,
     "start_time": "2021-06-07T20:56:29.372229",
     "status": "completed"
    },
    "tags": []
   },
   "outputs": [
    {
     "data": {
      "image/png": "[encoded data removed]",
      "text/plain": [
       "<Figure size 432x288 with 1 Axes>"
      ]
     },
     "metadata": {
      "needs_background": "light"
     },
     "output_type": "display_data"
    }
   ],
   "source": [
    "mlt.scatter(X_train, y_train, color = 'red')\n",
    "mlt.plot(X_train, regressor.predict(X_train), color = 'blue')\n",
    "mlt.title('Number of Hours Worked vs Score')\n",
    "mlt.xlabel('Score')\n",
    "mlt.ylabel('Number of Hours')\n",
    "mlt.show()"
   ]
  }
 ],
 "metadata": {
  "kernelspec": {
   "display_name": "Python 3",
   "language": "python",
   "name": "python3"
  },
  "language_info": {
   "codemirror_mode": {
    "name": "ipython",
    "version": 3
   },
   "file_extension": ".py",
   "mimetype": "text/x-python",
   "name": "python",
   "nbconvert_exporter": "python",
   "pygments_lexer": "ipython3",
   "version": "3.7.10"
  },
  "papermill": {
   "default_parameters": {},
   "duration": 10.408294,
   "end_time": "2021-06-07T20:56:30.309269",
   "environment_variables": {},
   "exception": null,
   "input_path": "__notebook__.ipynb",
   "output_path": "__notebook__.ipynb",
   "parameters": {},
   "start_time": "2021-06-07T20:56:19.900975",
   "version": "2.3.3"
  }
 },
 "nbformat": 4,
 "nbformat_minor": 5
}
